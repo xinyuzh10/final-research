{
 "cells": [
  {
   "cell_type": "code",
   "execution_count": null,
   "id": "5a85a01d-73c5-4cbc-841d-bd9944e6cd9d",
   "metadata": {},
   "outputs": [],
   "source": [
    "# Load libraries\n",
    "import numpy as np\n",
    "import pandas as pd\n",
    "import seaborn as sns\n",
    "\n",
    "sns.set_style('darkgrid')\n",
    "#sns.set_style('whitegrid')\n",
    "#sns.set_style('white')\n",
    "\n",
    "\n",
    "import geopandas as gpd\n",
    "import matplotlib.pyplot as plt\n",
    "\n",
    "import libpysal\n",
    "from libpysal  import weights\n",
    "from libpysal.weights import Queen\n",
    "\n",
    "import esda\n",
    "from esda.moran import Moran, Moran_Local\n",
    "\n",
    "import splot\n",
    "from splot.esda import moran_scatterplot, plot_moran, lisa_cluster, plot_local_autocorrelation\n",
    "from splot.libpysal import plot_spatial_weights\n",
    "\n",
    "from giddy.directional import Rose\n",
    "\n",
    "from spreg import OLS\n",
    "from spreg import MoranRes\n",
    "from spreg import ML_Lag\n",
    "from spreg import ML_Error"
   ]
  },
  {
   "cell_type": "code",
   "execution_count": null,
   "id": "a77072a0-bdbd-44f3-bb62-74f3f3fd1407",
   "metadata": {},
   "outputs": [],
   "source": [
    "pip uninstall seaborn numpy"
   ]
  },
  {
   "cell_type": "code",
   "execution_count": null,
   "id": "1b2ba17c-a211-4aab-81e3-744f7e27c542",
   "metadata": {},
   "outputs": [],
   "source": []
  }
 ],
 "metadata": {
  "kernelspec": {
   "display_name": "Python 3 (ipykernel)",
   "language": "python",
   "name": "python3"
  },
  "language_info": {
   "codemirror_mode": {
    "name": "ipython",
    "version": 3
   },
   "file_extension": ".py",
   "mimetype": "text/x-python",
   "name": "python",
   "nbconvert_exporter": "python",
   "pygments_lexer": "ipython3",
   "version": "3.10.5"
  }
 },
 "nbformat": 4,
 "nbformat_minor": 5
}
