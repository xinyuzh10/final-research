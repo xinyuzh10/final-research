{
 "cells": [
  {
   "cell_type": "code",
   "execution_count": 4,
   "id": "3c945a1d-e009-4900-8f21-ca2d19c139d7",
   "metadata": {},
   "outputs": [
    {
     "ename": "ImportError",
     "evalue": "cannot import name '_NDFrameIndexer' from 'pandas.core.indexing' (E:\\Uni\\research\\venv\\lib\\site-packages\\pandas\\core\\indexing.py)",
     "output_type": "error",
     "traceback": [
      "\u001b[1;31m---------------------------------------------------------------------------\u001b[0m",
      "\u001b[1;31mImportError\u001b[0m                               Traceback (most recent call last)",
      "Cell \u001b[1;32mIn[4], line 1\u001b[0m\n\u001b[1;32m----> 1\u001b[0m \u001b[38;5;28;01mimport\u001b[39;00m \u001b[38;5;21;01mgeopandas\u001b[39;00m\n\u001b[0;32m      2\u001b[0m \u001b[38;5;28;01mimport\u001b[39;00m \u001b[38;5;21;01mlibpysal\u001b[39;00m\n\u001b[0;32m      3\u001b[0m \u001b[38;5;28;01mimport\u001b[39;00m \u001b[38;5;21;01mmatplotlib\u001b[39;00m\u001b[38;5;21;01m.\u001b[39;00m\u001b[38;5;21;01mpyplot\u001b[39;00m \u001b[38;5;28;01mas\u001b[39;00m \u001b[38;5;21;01mplt\u001b[39;00m\n",
      "File \u001b[1;32mE:\\Uni\\research\\venv\\lib\\site-packages\\geopandas\\__init__.py:1\u001b[0m\n\u001b[1;32m----> 1\u001b[0m \u001b[38;5;28;01mfrom\u001b[39;00m \u001b[38;5;21;01mgeopandas\u001b[39;00m\u001b[38;5;21;01m.\u001b[39;00m\u001b[38;5;21;01mgeoseries\u001b[39;00m \u001b[38;5;28;01mimport\u001b[39;00m GeoSeries\n\u001b[0;32m      2\u001b[0m \u001b[38;5;28;01mfrom\u001b[39;00m \u001b[38;5;21;01mgeopandas\u001b[39;00m\u001b[38;5;21;01m.\u001b[39;00m\u001b[38;5;21;01mgeodataframe\u001b[39;00m \u001b[38;5;28;01mimport\u001b[39;00m GeoDataFrame\n\u001b[0;32m      4\u001b[0m \u001b[38;5;28;01mfrom\u001b[39;00m \u001b[38;5;21;01mgeopandas\u001b[39;00m\u001b[38;5;21;01m.\u001b[39;00m\u001b[38;5;21;01mio\u001b[39;00m\u001b[38;5;21;01m.\u001b[39;00m\u001b[38;5;21;01mfile\u001b[39;00m \u001b[38;5;28;01mimport\u001b[39;00m read_file\n",
      "File \u001b[1;32mE:\\Uni\\research\\venv\\lib\\site-packages\\geopandas\\geoseries.py:12\u001b[0m\n\u001b[0;32m      9\u001b[0m \u001b[38;5;28;01mfrom\u001b[39;00m \u001b[38;5;21;01mshapely\u001b[39;00m\u001b[38;5;21;01m.\u001b[39;00m\u001b[38;5;21;01mops\u001b[39;00m \u001b[38;5;28;01mimport\u001b[39;00m transform\n\u001b[0;32m     11\u001b[0m \u001b[38;5;28;01mfrom\u001b[39;00m \u001b[38;5;21;01mgeopandas\u001b[39;00m\u001b[38;5;21;01m.\u001b[39;00m\u001b[38;5;21;01mplotting\u001b[39;00m \u001b[38;5;28;01mimport\u001b[39;00m plot_series\n\u001b[1;32m---> 12\u001b[0m \u001b[38;5;28;01mfrom\u001b[39;00m \u001b[38;5;21;01mgeopandas\u001b[39;00m\u001b[38;5;21;01m.\u001b[39;00m\u001b[38;5;21;01mbase\u001b[39;00m \u001b[38;5;28;01mimport\u001b[39;00m GeoPandasBase, _series_unary_op, _CoordinateIndexer\n\u001b[0;32m     15\u001b[0m \u001b[38;5;28;01mdef\u001b[39;00m \u001b[38;5;21m_is_empty\u001b[39m(x):\n\u001b[0;32m     16\u001b[0m     \u001b[38;5;28;01mtry\u001b[39;00m:\n",
      "File \u001b[1;32mE:\\Uni\\research\\venv\\lib\\site-packages\\geopandas\\base.py:6\u001b[0m\n\u001b[0;32m      4\u001b[0m \u001b[38;5;28;01mimport\u001b[39;00m \u001b[38;5;21;01mpandas\u001b[39;00m \u001b[38;5;28;01mas\u001b[39;00m \u001b[38;5;21;01mpd\u001b[39;00m\n\u001b[0;32m      5\u001b[0m \u001b[38;5;28;01mfrom\u001b[39;00m \u001b[38;5;21;01mpandas\u001b[39;00m \u001b[38;5;28;01mimport\u001b[39;00m Series, DataFrame, MultiIndex\n\u001b[1;32m----> 6\u001b[0m \u001b[38;5;28;01mfrom\u001b[39;00m \u001b[38;5;21;01mpandas\u001b[39;00m\u001b[38;5;21;01m.\u001b[39;00m\u001b[38;5;21;01mcore\u001b[39;00m\u001b[38;5;21;01m.\u001b[39;00m\u001b[38;5;21;01mindexing\u001b[39;00m \u001b[38;5;28;01mimport\u001b[39;00m _NDFrameIndexer\n\u001b[0;32m      7\u001b[0m \u001b[38;5;28;01mfrom\u001b[39;00m \u001b[38;5;21;01mshapely\u001b[39;00m\u001b[38;5;21;01m.\u001b[39;00m\u001b[38;5;21;01mgeometry\u001b[39;00m \u001b[38;5;28;01mimport\u001b[39;00m box, MultiPoint, MultiLineString, MultiPolygon\n\u001b[0;32m      8\u001b[0m \u001b[38;5;28;01mfrom\u001b[39;00m \u001b[38;5;21;01mshapely\u001b[39;00m\u001b[38;5;21;01m.\u001b[39;00m\u001b[38;5;21;01mops\u001b[39;00m \u001b[38;5;28;01mimport\u001b[39;00m cascaded_union, unary_union\n",
      "\u001b[1;31mImportError\u001b[0m: cannot import name '_NDFrameIndexer' from 'pandas.core.indexing' (E:\\Uni\\research\\venv\\lib\\site-packages\\pandas\\core\\indexing.py)"
     ]
    }
   ],
   "source": [
    "import geopandas\n",
    "import libpysal\n",
    "import matplotlib.pyplot as plt\n",
    "import numpy\n",
    "import spopt\n",
    "from spopt.region import MaxPHeuristic as MaxP"
   ]
  },
  {
   "cell_type": "code",
   "execution_count": 3,
   "id": "55ecfba3-167a-4bde-b2af-7d22f8f5419e",
   "metadata": {},
   "outputs": [
    {
     "name": "stdout",
     "output_type": "stream",
     "text": [
      "Requirement already satisfied: geopandas in e:\\uni\\research\\venv\\lib\\site-packages (0.4.0)Note: you may need to restart the kernel to use updated packages.\n",
      "\n",
      "Requirement already satisfied: pandas in e:\\uni\\research\\venv\\lib\\site-packages (from geopandas) (2.0.3)\n",
      "Requirement already satisfied: shapely in e:\\uni\\research\\venv\\lib\\site-packages (from geopandas) (2.0.1)\n",
      "Requirement already satisfied: fiona in e:\\uni\\research\\venv\\lib\\site-packages (from geopandas) (1.9.4.post1)\n",
      "Requirement already satisfied: pyproj in e:\\uni\\research\\venv\\lib\\site-packages (from geopandas) (3.6.0)\n",
      "Requirement already satisfied: attrs>=19.2.0 in e:\\uni\\research\\venv\\lib\\site-packages (from fiona->geopandas) (23.1.0)\n",
      "Requirement already satisfied: certifi in e:\\uni\\research\\venv\\lib\\site-packages (from fiona->geopandas) (2023.7.22)\n",
      "Requirement already satisfied: click~=8.0 in e:\\uni\\research\\venv\\lib\\site-packages (from fiona->geopandas) (8.1.7)\n",
      "Requirement already satisfied: click-plugins>=1.0 in e:\\uni\\research\\venv\\lib\\site-packages (from fiona->geopandas) (1.1.1)\n",
      "Requirement already satisfied: cligj>=0.5 in e:\\uni\\research\\venv\\lib\\site-packages (from fiona->geopandas) (0.7.2)\n",
      "Requirement already satisfied: six in e:\\uni\\research\\venv\\lib\\site-packages (from fiona->geopandas) (1.16.0)\n",
      "Requirement already satisfied: python-dateutil>=2.8.2 in e:\\uni\\research\\venv\\lib\\site-packages (from pandas->geopandas) (2.8.2)\n",
      "Requirement already satisfied: pytz>=2020.1 in e:\\uni\\research\\venv\\lib\\site-packages (from pandas->geopandas) (2023.3)\n",
      "Requirement already satisfied: tzdata>=2022.1 in e:\\uni\\research\\venv\\lib\\site-packages (from pandas->geopandas) (2023.3)\n",
      "Requirement already satisfied: numpy>=1.21.0 in e:\\uni\\research\\venv\\lib\\site-packages (from pandas->geopandas) (1.24.4)\n",
      "Requirement already satisfied: colorama in e:\\uni\\research\\venv\\lib\\site-packages (from click~=8.0->fiona->geopandas) (0.4.6)\n"
     ]
    }
   ],
   "source": [
    "pip install geopandas"
   ]
  },
  {
   "cell_type": "code",
   "execution_count": null,
   "id": "9231d2db-bd59-4745-b98c-b531ab82b463",
   "metadata": {},
   "outputs": [],
   "source": []
  }
 ],
 "metadata": {
  "kernelspec": {
   "display_name": "Python 3 (ipykernel)",
   "language": "python",
   "name": "python3"
  },
  "language_info": {
   "codemirror_mode": {
    "name": "ipython",
    "version": 3
   },
   "file_extension": ".py",
   "mimetype": "text/x-python",
   "name": "python",
   "nbconvert_exporter": "python",
   "pygments_lexer": "ipython3",
   "version": "3.10.5"
  }
 },
 "nbformat": 4,
 "nbformat_minor": 5
}
