{
 "cells": [
  {
   "cell_type": "code",
   "execution_count": 70,
   "id": "c49dcf21-ec47-4928-86c5-8288545b34b0",
   "metadata": {},
   "outputs": [],
   "source": [
    "import matplotlib.pyplot as plt  # Graphics\n",
    "from matplotlib import colors\n",
    "import seaborn  # Graphics\n",
    "import pandas as pd # Tabular data manipulation\n",
    "import rioxarray  # Surface data manipulation\n",
    "import xarray  # Surface data manipulation\n",
    "from pysal.explore import esda  # Exploratory Spatial analytics\n",
    "from pysal.lib import weights  # Spatial weights\n",
    "import contextily  # Background tiles\n",
    "import geopandas as gpd  # Spatial data manipulation\n",
    "\n",
    "import esda\n",
    "import pandas as pd\n",
    "import geopandas as gpd\n",
    "from geopandas import GeoDataFrame\n",
    "import libpysal as lps\n",
    "import numpy as np\n",
    "import matplotlib.pyplot as plt\n",
    "from shapely.geometry import Point\n",
    "%matplotlib inline"
   ]
  },
  {
   "cell_type": "code",
   "execution_count": 71,
   "id": "f8acb42b-a10d-4ae6-986e-5360e5ac46ce",
   "metadata": {},
   "outputs": [],
   "source": [
    "state = \"STE_2021_AUST_SHP_GDA2020/STE_2021_AUST_GDA2020.shp\"\n",
    "state = gpd.read_file(state)\n",
    "state = state.loc[state.is_valid]\n",
    "state['STE_CODE21']=state['STE_CODE21'].astype(int)"
   ]
  },
  {
   "cell_type": "code",
   "execution_count": 72,
   "id": "526d5b95-6084-467a-870e-79bf06b03431",
   "metadata": {},
   "outputs": [],
   "source": [
    "wages_path = 'wages2020Q1.xlsx'\n",
    "\n",
    "wages_2020_Q1 = pd.read_excel(wages_path, engine='openpyxl')\n",
    "wages_2020_Q1 = pd.DataFrame(wages_2020_Q1)\n",
    "wages_2020_Q1['STE_CODE21']=wages_2020_Q1['STE_CODE21'].astype(int)"
   ]
  },
  {
   "cell_type": "code",
   "execution_count": 73,
   "id": "c727ee82-e597-4476-b88b-a56954aa85fa",
   "metadata": {},
   "outputs": [],
   "source": [
    "state_wages_2020_Q1 = state.merge(wages_2020_Q1, on='STE_CODE21', how='left')\n",
    "state_wages_2020_Q1 = state_wages_2020_Q1.set_index('STE_CODE21')\n",
    "state_wages_2020_Q1 =state_wages_2020_Q1.iloc[:7]\n"
   ]
  },
  {
   "cell_type": "code",
   "execution_count": 74,
   "id": "41576e4c-3d84-452c-ac93-f143a64616c8",
   "metadata": {},
   "outputs": [],
   "source": [
    "# state_wages_2020_Q1.plot(\n",
    "#     figsize=(12, 24),\n",
    "#     column=\"actual_change\",\n",
    "#     scheme=\"Quantiles\",\n",
    "#     k = 4,\n",
    "#     cmap=\"GnBu\",\n",
    "#     edgecolor=\"grey\",\n",
    "#     legend=True\n",
    "# ).axis(\"off\");"
   ]
  },
  {
   "cell_type": "code",
   "execution_count": 75,
   "id": "d3551806-e3f9-4af8-b74d-0dc843d852f7",
   "metadata": {},
   "outputs": [],
   "source": [
    "# state_wages_2020_Q1.plot(\n",
    "#     figsize=(12, 24),\n",
    "#     column=\"predicted_change\",\n",
    "#     scheme=\"Quantiles\",\n",
    "#     k = 4,\n",
    "#     cmap=\"GnBu\",\n",
    "#     edgecolor=\"grey\",\n",
    "#     legend=True\n",
    "# ).axis(\"off\");"
   ]
  },
  {
   "cell_type": "code",
   "execution_count": 76,
   "id": "f8d30a36-dce3-4d09-aa0c-f88f62686c17",
   "metadata": {},
   "outputs": [],
   "source": [
    "# state_wages_2020_Q1.plot(\n",
    "#     figsize=(12, 24),\n",
    "#     column=\"change_diff\",\n",
    "#     scheme=\"Quantiles\",\n",
    "#     k = 4,\n",
    "#     cmap=\"GnBu\",\n",
    "#     edgecolor=\"grey\",\n",
    "#     legend=True\n",
    "# ).axis(\"off\");"
   ]
  },
  {
   "cell_type": "code",
   "execution_count": 77,
   "id": "15948b5c-9def-4f9c-844a-89acdbcae148",
   "metadata": {},
   "outputs": [],
   "source": [
    "# state_wages_2020_Q1.plot(\n",
    "#     figsize=(12, 24),\n",
    "#     column=\"actual\",\n",
    "#     scheme=\"Quantiles\",\n",
    "#     k = 4,\n",
    "#     cmap=\"GnBu\",\n",
    "#     edgecolor=\"grey\",\n",
    "#     legend=True\n",
    "# ).axis(\"off\");"
   ]
  },
  {
   "cell_type": "code",
   "execution_count": 78,
   "id": "7a6c88e1-3902-4b80-a8e7-d9185b2a4738",
   "metadata": {},
   "outputs": [],
   "source": [
    "# state_wages_2020_Q1.plot(\n",
    "#     figsize=(12, 24),\n",
    "#     column=\"predicted_actual\",\n",
    "#     scheme=\"Quantiles\",\n",
    "#     k = 4,\n",
    "#     cmap=\"GnBu\",\n",
    "#     edgecolor=\"grey\",\n",
    "#     legend=True\n",
    "# ).axis(\"off\");"
   ]
  },
  {
   "cell_type": "code",
   "execution_count": 79,
   "id": "a768461c-16d6-4a50-85a8-6deb50f3708a",
   "metadata": {},
   "outputs": [],
   "source": [
    "# state_wages_2020_Q1.plot(\n",
    "#     figsize=(12, 24),\n",
    "#     column=\"actual_change\",\n",
    "#     scheme=\"Quantiles\",\n",
    "#     k = 4,\n",
    "#     cmap=\"GnBu\",\n",
    "#     edgecolor=\"grey\",\n",
    "#     legend=True\n",
    "# ).axis(\"off\");"
   ]
  },
  {
   "cell_type": "code",
   "execution_count": 80,
   "id": "234b9007-2465-4ead-a2b3-acd25dfcb2ba",
   "metadata": {},
   "outputs": [
    {
     "name": "stdout",
     "output_type": "stream",
     "text": [
      "('WARNING: ', 5, ' is an island (no neighbors)')\n"
     ]
    },
    {
     "name": "stderr",
     "output_type": "stream",
     "text": [
      "E:\\Uni\\research\\venv\\lib\\site-packages\\libpysal\\weights\\weights.py:172: UserWarning: The weights matrix is not fully connected: \n",
      " There are 2 disconnected components.\n",
      " There is 1 island with id: 5.\n",
      "  warnings.warn(message)\n"
     ]
    }
   ],
   "source": [
    "wq =  lps.weights.Queen.from_dataframe(state_wages_2020_Q1)\n",
    "\n",
    "wq.transform = 'r'\n",
    "\n",
    "\n",
    "change_diff = state_wages_2020_Q1['change_diff']\n",
    "ylag = lps.weights.lag_spatial(wq, change_diff)\n"
   ]
  },
  {
   "cell_type": "code",
   "execution_count": null,
   "id": "7c633400-2d70-47fe-bd13-2078d0338954",
   "metadata": {},
   "outputs": [],
   "source": [
    "import mapclassify as mc\n",
    "ylagq5 = mc.Quantiles(ylag, k=5)\n",
    "print(ylagq5)"
   ]
  },
  {
   "cell_type": "code",
   "execution_count": null,
   "id": "e4000f72-a1e0-4252-9270-f9991befd438",
   "metadata": {},
   "outputs": [],
   "source": [
    "f,ax = plt.subplots(1,2,figsize=(3*4,4))\n",
    "\n",
    "state_wages_2020_Q1.plot(column='change_diff', ax=ax[0], edgecolor='k',\n",
    "        scheme=\"quantiles\",  k=5, cmap='GnBu')\n",
    "ax[0].axis(state_wages_2020_Q1.total_bounds[np.asarray([0,2,1,3])])\n",
    "ax[0].set_title(\"change_diff\")\n",
    "\n",
    "state_wages_2020_Q1.assign(cl=ylagq5.yb).plot( ax=ax[1], edgecolor='k',\n",
    "        scheme=\"quantiles\",  k=5, cmap='GnBu')\n",
    "\n",
    "ax[1].axis(state_wages_2020_Q1.total_bounds[np.asarray([0,2,1,3])])\n",
    "ax[1].set_title(\"Spatial Lag change_diff\")\n",
    "\n",
    "ax[0].axis('off')\n",
    "ax[1].axis('off')\n",
    "plt.show()"
   ]
  },
  {
   "cell_type": "markdown",
   "id": "166b207f-bfcf-4583-940b-97fcf5e0b0b6",
   "metadata": {},
   "source": [
    "Global Spatial Autocorrelation"
   ]
  },
  {
   "cell_type": "code",
   "execution_count": null,
   "id": "92d3a65d-369d-4611-9022-8678546777ae",
   "metadata": {},
   "outputs": [],
   "source": [
    "y = change_diff\n",
    "\n",
    "y.median()\n",
    "yb = y > y.median()\n",
    "sum(yb)\n",
    "yb = y > y.median()\n",
    "labels = [\"0 Low\", \"1 High\"]\n",
    "yb = [labels[i] for i in 1*yb]\n",
    "state_wages_2020_Q1['yb'] = yb\n",
    "fig, ax = plt.subplots(figsize=(12,10), subplot_kw={'aspect':'equal'})\n",
    "state_wages_2020_Q1.plot(column='yb', cmap='binary', edgecolor='grey', legend=True, ax=ax)"
   ]
  },
  {
   "cell_type": "markdown",
   "id": "4174c290-65f8-4bc7-8585-93f4643d8311",
   "metadata": {},
   "source": [
    "Local Autocorrelation: Hot Spots, Cold Spots, and Spatial Outliers\n"
   ]
  },
  {
   "cell_type": "code",
   "execution_count": null,
   "id": "66948e65-1bd9-4455-a9cb-dd9dc97f5bd1",
   "metadata": {},
   "outputs": [],
   "source": [
    "np.random.seed(12345)\n",
    "import esda\n",
    "\n",
    "wq =  lps.weights.Queen.from_dataframe(state_wages_2020_Q1)\n",
    "wq.transform = 'r'\n",
    "\n",
    "lag_change_diff = lps.weights.lag_spatial(wq, state_wages_2020_Q1['change_diff'])\n",
    "lag_change_diff[np.isnan(lag_change_diff)] = 0\n",
    "\n",
    "change_diff = state_wages_2020_Q1['change_diff']\n",
    "b, a = np.polyfit(change_diff, lag_change_diff, 1)\n",
    "f, ax = plt.subplots(1, figsize=(9, 9))\n",
    "\n",
    "plt.plot(change_diff, lag_change_diff, '.', color='firebrick')\n",
    "\n",
    " # dashed vert at mean of the price\n",
    "plt.vlines(change_diff.mean(), lag_change_diff.min(), lag_change_diff.max(), linestyle='--')\n",
    " # dashed horizontal at mean of lagged price\n",
    "plt.hlines(lag_change_diff.mean(), change_diff.min(), change_diff.max(), linestyle='--')\n",
    "\n",
    "# red line of best fit using global I as slope\n",
    "plt.plot(change_diff, a + b*change_diff, 'r')\n",
    "plt.title('Moran Scatterplot')\n",
    "plt.ylabel('Spatial Lag of Price')\n",
    "plt.xlabel('Price')\n",
    "plt.show()\n"
   ]
  },
  {
   "cell_type": "code",
   "execution_count": null,
   "id": "26d152eb-fc45-472d-8b56-b8e71d01866e",
   "metadata": {},
   "outputs": [],
   "source": [
    "li = esda.moran.Moran_Local(change_diff, wq)\n",
    "li.q"
   ]
  },
  {
   "cell_type": "code",
   "execution_count": null,
   "id": "869da31d-787c-47c1-9f97-d2aa2b2e72fb",
   "metadata": {},
   "outputs": [],
   "source": [
    "(li.p_sim < 0.05).sum()"
   ]
  },
  {
   "cell_type": "code",
   "execution_count": null,
   "id": "34e2e2cb-ca4c-4e81-b6a9-2371e7ec260d",
   "metadata": {},
   "outputs": [],
   "source": [
    "sig = li.p_sim < 0.05\n",
    "hotspot = sig * li.q==1\n",
    "coldspot = sig * li.q==3\n",
    "doughnut = sig * li.q==2\n",
    "diamond = sig * li.q==4\n",
    "\n",
    "spots = ['n.sig.', 'hot spot']\n",
    "labels = [spots[i] for i in hotspot*1]\n",
    "\n",
    "df = state_wages_2020_Q1\n",
    "from matplotlib import colors\n",
    "hmap = colors.ListedColormap(['red', 'lightgrey'])\n",
    "f, ax = plt.subplots(1, figsize=(9, 9))\n",
    "df.assign(cl=labels).plot(column='cl', categorical=True, \\\n",
    "        k=2, cmap=hmap, linewidth=0.1, ax=ax, \\\n",
    "        edgecolor='white', legend=True)\n",
    "ax.set_axis_off()\n",
    "plt.show()"
   ]
  },
  {
   "cell_type": "code",
   "execution_count": null,
   "id": "1cf5c9de-836f-45f5-bb20-17923f4b35ff",
   "metadata": {},
   "outputs": [],
   "source": []
  }
 ],
 "metadata": {
  "kernelspec": {
   "display_name": "Python 3 (ipykernel)",
   "language": "python",
   "name": "python3"
  },
  "language_info": {
   "codemirror_mode": {
    "name": "ipython",
    "version": 3
   },
   "file_extension": ".py",
   "mimetype": "text/x-python",
   "name": "python",
   "nbconvert_exporter": "python",
   "pygments_lexer": "ipython3",
   "version": "3.10.5"
  }
 },
 "nbformat": 4,
 "nbformat_minor": 5
}
